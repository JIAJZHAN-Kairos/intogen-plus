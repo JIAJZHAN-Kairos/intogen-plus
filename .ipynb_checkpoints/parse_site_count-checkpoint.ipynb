{
 "cells": [
  {
   "cell_type": "markdown",
   "metadata": {
    "ExecuteTime": {
     "end_time": "2017-03-28T16:41:17.405789",
     "start_time": "2017-03-28T16:41:03.550303"
    },
    "deletable": true,
    "editable": true
   },
   "source": [
    "## extract the dictionary"
   ]
  },
  {
   "cell_type": "code",
   "execution_count": null,
   "metadata": {
    "collapsed": true,
    "deletable": true,
    "editable": true
   },
   "outputs": [],
   "source": [
    "import json\n",
    "import gzip\n",
    "\n",
    "input_file = '/projects_bg/bg/shared/projects/gendas/gendas_benchmark/all_consequence_signature_per_gene.json.gz'\n",
    "with gzip.open(input_file, 'rt') as f:\n",
    "    d = json.load(f)"
   ]
  },
  {
   "cell_type": "code",
   "execution_count": 30,
   "metadata": {
    "ExecuteTime": {
     "end_time": "2017-03-28T17:22:45.097508",
     "start_time": "2017-03-28T17:22:45.082064"
    },
    "collapsed": false,
    "deletable": true,
    "editable": true
   },
   "outputs": [],
   "source": [
    "lex_keys = []\n",
    "CB = {'A': 'T', 'T': 'A', 'C': 'G', 'G': 'C'}\n",
    "subs = ['CA', 'CG', 'CT', 'TA', 'TC', 'TG', \n",
    "        'AC', 'AG', 'AT', 'GA', 'GC', 'GT']\n",
    "for i in range(len(subs)):\n",
    "    for b1 in sorted(CB):\n",
    "        for b2 in sorted(CB):\n",
    "            context = \"\".join([b1, b2])\n",
    "            lex_keys.append(tuple([subs[i], context]))"
   ]
  },
  {
   "cell_type": "markdown",
   "metadata": {
    "deletable": true,
    "editable": true
   },
   "source": [
    "## keep it in a numpy.array "
   ]
  },
  {
   "cell_type": "code",
   "execution_count": 96,
   "metadata": {
    "ExecuteTime": {
     "end_time": "2017-03-28T18:55:37.190307",
     "start_time": "2017-03-28T18:55:37.162246"
    },
    "collapsed": false,
    "deletable": true,
    "editable": true
   },
   "outputs": [],
   "source": [
    "import numpy as np\n",
    "gene_index = [item['GENE'] for item in d]\n",
    "key_index = list(map(lambda x: x[1][0] + x[0][0] + x[1][1] + '>' + x[0][1], sorted(lex_keys)))\n",
    "csqn_index = ['synonymous_variant', 'missense_variant', 'stop_gained_variant', \n",
    "                 'splice_acceptor_variant', 'splice_donor_variant']"
   ]
  },
  {
   "cell_type": "code",
   "execution_count": 97,
   "metadata": {
    "ExecuteTime": {
     "end_time": "2017-03-28T18:55:42.137771",
     "start_time": "2017-03-28T18:55:42.124022"
    },
    "collapsed": false,
    "deletable": true,
    "editable": true
   },
   "outputs": [
    {
     "data": {
      "text/plain": [
       "['synonymous_variant',\n",
       " 'missense_variant',\n",
       " 'stop_gained_variant',\n",
       " 'splice_acceptor_variant',\n",
       " 'splice_donor_variant']"
      ]
     },
     "execution_count": 97,
     "metadata": {},
     "output_type": "execute_result"
    }
   ],
   "source": [
    "csqn_index"
   ]
  },
  {
   "cell_type": "code",
   "execution_count": 98,
   "metadata": {
    "ExecuteTime": {
     "end_time": "2017-03-28T18:57:52.759254",
     "start_time": "2017-03-28T18:57:26.598728"
    },
    "collapsed": false,
    "deletable": true,
    "editable": true
   },
   "outputs": [],
   "source": [
    "site_count_matrix = np.zeros((len(gene_index), len(key_index), len(csqn_index)))\n",
    "for item in d:\n",
    "    i = gene_index.index(item['GENE'])\n",
    "    for key in item['context']:\n",
    "        try:\n",
    "            j = key_index.index(key)\n",
    "        except:\n",
    "            pass\n",
    "        for csqn in item['context'][key]:\n",
    "            if csqn in csqn_index:\n",
    "                k = csqn_index.index(csqn)\n",
    "                site_count_matrix[i, j, k] = item['context'][key][csqn]"
   ]
  },
  {
   "cell_type": "code",
   "execution_count": 99,
   "metadata": {
    "ExecuteTime": {
     "end_time": "2017-03-28T18:59:23.490788",
     "start_time": "2017-03-28T18:58:51.877997"
    },
    "collapsed": true,
    "deletable": true,
    "editable": true
   },
   "outputs": [],
   "source": [
    "import dill as pickle\n",
    "import gzip\n",
    "\n",
    "site_count = {'gene_index': gene_index, \n",
    "              'key_index': key_index, \n",
    "              'csqn_index': csqn_index, \n",
    "              'matrix': site_count_matrix}\n",
    "with gzip.open('site_counts.pickle.gz', 'wb') as f:\n",
    "    pickle.dump(site_count, f)"
   ]
  },
  {
   "cell_type": "markdown",
   "metadata": {
    "ExecuteTime": {
     "end_time": "2017-03-28T18:59:39.411849",
     "start_time": "2017-03-28T18:59:39.249810"
    },
    "collapsed": false,
    "deletable": true,
    "editable": true
   },
   "source": [
    "The array kept in 'matrix' has 3 indexes:\n",
    "\n",
    "- 1st: gene index\n",
    "- 2nd: mutational key index\n",
    "- 3rd: consequence type index"
   ]
  }
 ],
 "metadata": {
  "anaconda-cloud": {},
  "kernelspec": {
   "display_name": "Python 3",
   "language": "python",
   "name": "python3"
  },
  "language_info": {
   "codemirror_mode": {
    "name": "ipython",
    "version": 3
   },
   "file_extension": ".py",
   "mimetype": "text/x-python",
   "name": "python",
   "nbconvert_exporter": "python",
   "pygments_lexer": "ipython3",
   "version": "3.5.3"
  },
  "toc": {
   "colors": {
    "hover_highlight": "#DAA520",
    "running_highlight": "#FF0000",
    "selected_highlight": "#FFD700"
   },
   "moveMenuLeft": true,
   "nav_menu": {
    "height": "49px",
    "width": "252px"
   },
   "navigate_menu": true,
   "number_sections": true,
   "sideBar": true,
   "threshold": 4,
   "toc_cell": false,
   "toc_section_display": "block",
   "toc_window_display": false
  }
 },
 "nbformat": 4,
 "nbformat_minor": 1
}
