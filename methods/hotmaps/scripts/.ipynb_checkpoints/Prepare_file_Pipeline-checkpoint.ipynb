{
 "cells": [
  {
   "cell_type": "markdown",
   "metadata": {},
   "source": [
    "# Notebook that prepares the file to be read by the pipeline. It requieres the output of HotMaps.  \n",
    "\n",
    "(default: hotspot_regions_gene_0.05.txt). \n"
   ]
  },
  {
   "cell_type": "markdown",
   "metadata": {},
   "source": [
    "## Imports"
   ]
  },
  {
   "cell_type": "code",
   "execution_count": 1,
   "metadata": {},
   "outputs": [],
   "source": [
    "import pandas as pd\n",
    "import numpy as np\n",
    "import statsmodels.sandbox.stats.multicomp as mp"
   ]
  },
  {
   "cell_type": "markdown",
   "metadata": {},
   "source": [
    "## Default files"
   ]
  },
  {
   "cell_type": "code",
   "execution_count": 2,
   "metadata": {
    "collapsed": true
   },
   "outputs": [],
   "source": [
    "file_hotspots_gene = \"/home/fran/Documents/clusters3D/output_filtered2/hotspot_regions_gene_0.05.txt\"\n",
    "f_info_density = \"/home/fran/Documents/clusters3D/output_filtered2/mtc_output_min_0.05.txt\"\n"
   ]
  },
  {
   "cell_type": "markdown",
   "metadata": {},
   "source": [
    "# 1. Read the input file"
   ]
  },
  {
   "cell_type": "code",
   "execution_count": 3,
   "metadata": {},
   "outputs": [],
   "source": [
    "def find_hotspots_gene_cancer(file_hotspots_gene):\n",
    "    #Structure\tCancer_Type\tHotSpot1\tHotSpot2...\n",
    "    f = open(file_hotspots_gene)\n",
    "    list_hotspots = []\n",
    "    \n",
    "    for line in f:\n",
    "        line = line.rstrip()\n",
    "        data = line.split('\\t')\n",
    "        gene = data[0]\n",
    "        cancer = data[1]\n",
    "        hotspots = data[2:len(data)]\n",
    "        number = len(hotspots)\n",
    "        # Loop over the hotspots, gets the average number of residuse per hotspot and the total number of residues involved in hotspots\n",
    "        set_h = set()\n",
    "        sizes_hotspots = []\n",
    "        for hs in hotspots:\n",
    "            aas = hs.split(\";\")\n",
    "            size = 0\n",
    "            # ENST00000263967:1047;ENST00000263967:1043\t (Transcript:RES)\n",
    "            for aa in aas:\n",
    "                \n",
    "                if aa in set_h:\n",
    "                    size = size +1\n",
    "                else:\n",
    "                    size = size +1\n",
    "                    set_h.add(aa)\n",
    "            sizes_hotspots.append(size)\n",
    "        list_hotspots.append([gene,cancer,number,len(set_h),np.median(sizes_hotspots)])\n",
    "        \n",
    "    f.close()\n",
    "    return pd.DataFrame(list_hotspots,columns=[\"GENE\",\"Cancer_Type\",\"TOTAL_HSP\",\"TOTAL_RES_HSP\",\"MEDIAN_RES_HSP\"])\n",
    "df_hotspots = find_hotspots_gene_cancer(file_hotspots_gene)"
   ]
  },
  {
   "cell_type": "markdown",
   "metadata": {},
   "source": [
    "# 2. Read the density file"
   ]
  },
  {
   "cell_type": "code",
   "execution_count": 6,
   "metadata": {},
   "outputs": [],
   "source": [
    "def get_density_and_pvalue_gene(file_info_density_gene):\n",
    "    # Structure of the input file\n",
    "    # Structure       Tumor Type      Model   Chain   Mutation Residues       Residue Mutation Count  Mutation Density        Hotspot P-value\n",
    "    df_density_aa = pd.read_csv(file_info_density_gene,sep=\"\\t\")\n",
    "    return df_density_aa\n",
    "\n",
    "df_density_aa = get_density_and_pvalue_gene(f_info_density)\n",
    "df_density_aa = df_density_aa.groupby([\"HUGO Symbol\",\"Sequence Ontology Transcript\",\"Tumor Type\"],as_index=False).agg({\"Min p-value\":np.min,\"q-value\":np.min})"
   ]
  },
  {
   "cell_type": "markdown",
   "metadata": {},
   "source": [
    "# 3. Get the hotspots data, match it with the density file"
   ]
  },
  {
   "cell_type": "code",
   "execution_count": 7,
   "metadata": {},
   "outputs": [],
   "source": [
    "def get_pvalue(row,df_density_aa):\n",
    "    if row[\"Cancer_Type\"] == \"REF\":\n",
    "        return 0.0\n",
    "    return np.min(df_density_aa[(df_density_aa[\"HUGO Symbol\"]==row[\"GENE\"])&(df_density_aa[\"Tumor Type\"]==row[\"Cancer_Type\"])][\"Min p-value\"].values)\n",
    "def get_qvalue(row,df_density_aa):\n",
    "    if row[\"Cancer_Type\"] == \"REF\":\n",
    "        return 0.0\n",
    "    return np.min(df_density_aa[(df_density_aa[\"HUGO Symbol\"]==row[\"GENE\"])&(df_density_aa[\"Tumor Type\"]==row[\"Cancer_Type\"])][\"q-value\"].values)\n",
    "df_hotspots[\"Min p-value\"] = df_hotspots.apply(lambda row: get_pvalue(row,df_density_aa),axis=1)\n",
    "df_hotspots[\"q-value\"] = df_hotspots.apply(lambda row: get_qvalue(row,df_density_aa),axis=1)\n",
    "    "
   ]
  },
  {
   "cell_type": "markdown",
   "metadata": {},
   "source": [
    "# 4. Include the data of genes non-significant"
   ]
  },
  {
   "cell_type": "code",
   "execution_count": 8,
   "metadata": {},
   "outputs": [],
   "source": [
    "rows = []\n",
    "for index,row in df_density_aa.iterrows():\n",
    "    if df_hotspots[(df_hotspots[\"GENE\"]==row[\"HUGO Symbol\"])&(df_hotspots[\"Cancer_Type\"]==row[\"Tumor Type\"])].shape[0] == 0:\n",
    "        # Include it\n",
    "        rows.append([row[\"HUGO Symbol\"],row[\"Tumor Type\"],0,0,0,row[\"Min p-value\"],row[\"q-value\"]])\n",
    "df_non_significant = pd.DataFrame(rows,columns=df_hotspots.columns.values)"
   ]
  },
  {
   "cell_type": "markdown",
   "metadata": {},
   "source": [
    "# 5. Concat both DataFrames"
   ]
  },
  {
   "cell_type": "code",
   "execution_count": 9,
   "metadata": {
    "collapsed": true
   },
   "outputs": [],
   "source": [
    "df_hotspots_all = pd.concat([df_hotspots,df_non_significant])"
   ]
  },
  {
   "cell_type": "markdown",
   "metadata": {},
   "source": [
    "# 6. Save it"
   ]
  },
  {
   "cell_type": "code",
   "execution_count": 8,
   "metadata": {},
   "outputs": [],
   "source": [
    "df_hotspots_all = pd.read_csv(\"/home/fran/Documents/clusters3D/output_filtered2/parsed_hotspot_output_signatures_filtered.csv\",sep=\"\\t\")"
   ]
  },
  {
   "cell_type": "code",
   "execution_count": 10,
   "metadata": {},
   "outputs": [],
   "source": [
    "df_hotspots_all.to_csv(\"/home/fran/Documents/clusters3D/output_filtered2/parsed_hotspot_output_signatures_filtered.csv\",sep=\"\\t\",index=False)"
   ]
  },
  {
   "cell_type": "code",
   "execution_count": 18,
   "metadata": {
    "collapsed": true
   },
   "outputs": [],
   "source": [
    "df_hotspots_all2 = pd.read_csv(\"/home/fran/Documents/clusters3D/output/parsed_hotspot_output_full.csv\",sep=\"\\t\")"
   ]
  },
  {
   "cell_type": "code",
   "execution_count": 10,
   "metadata": {},
   "outputs": [
    {
     "data": {
      "text/html": [
       "<div>\n",
       "<table border=\"1\" class=\"dataframe\">\n",
       "  <thead>\n",
       "    <tr style=\"text-align: right;\">\n",
       "      <th></th>\n",
       "      <th>GENE</th>\n",
       "      <th>Cancer_Type</th>\n",
       "      <th>TOTAL_HSP</th>\n",
       "      <th>TOTAL_RES_HSP</th>\n",
       "      <th>MEDIAN_RES_HSP</th>\n",
       "      <th>Min p-value</th>\n",
       "      <th>q-value</th>\n",
       "    </tr>\n",
       "  </thead>\n",
       "  <tbody>\n",
       "    <tr>\n",
       "      <th>160</th>\n",
       "      <td>TP53</td>\n",
       "      <td>PAAD</td>\n",
       "      <td>1</td>\n",
       "      <td>32</td>\n",
       "      <td>32.0</td>\n",
       "      <td>0.000003</td>\n",
       "      <td>0.001271</td>\n",
       "    </tr>\n",
       "    <tr>\n",
       "      <th>161</th>\n",
       "      <td>KRAS</td>\n",
       "      <td>PAAD</td>\n",
       "      <td>1</td>\n",
       "      <td>3</td>\n",
       "      <td>3.0</td>\n",
       "      <td>0.000004</td>\n",
       "      <td>0.001271</td>\n",
       "    </tr>\n",
       "    <tr>\n",
       "      <th>159</th>\n",
       "      <td>GNAS</td>\n",
       "      <td>PAAD</td>\n",
       "      <td>1</td>\n",
       "      <td>1</td>\n",
       "      <td>1.0</td>\n",
       "      <td>0.000018</td>\n",
       "      <td>0.002278</td>\n",
       "    </tr>\n",
       "    <tr>\n",
       "      <th>157</th>\n",
       "      <td>SMAD4</td>\n",
       "      <td>PAAD</td>\n",
       "      <td>1</td>\n",
       "      <td>4</td>\n",
       "      <td>4.0</td>\n",
       "      <td>0.000053</td>\n",
       "      <td>0.004549</td>\n",
       "    </tr>\n",
       "    <tr>\n",
       "      <th>158</th>\n",
       "      <td>KCNB2</td>\n",
       "      <td>PAAD</td>\n",
       "      <td>1</td>\n",
       "      <td>1</td>\n",
       "      <td>1.0</td>\n",
       "      <td>0.000655</td>\n",
       "      <td>0.039401</td>\n",
       "    </tr>\n",
       "    <tr>\n",
       "      <th>33011</th>\n",
       "      <td>DOCK1</td>\n",
       "      <td>PAAD</td>\n",
       "      <td>0</td>\n",
       "      <td>0</td>\n",
       "      <td>0.0</td>\n",
       "      <td>0.016762</td>\n",
       "      <td>0.788544</td>\n",
       "    </tr>\n",
       "    <tr>\n",
       "      <th>89320</th>\n",
       "      <td>PIK3CG</td>\n",
       "      <td>PAAD</td>\n",
       "      <td>0</td>\n",
       "      <td>0</td>\n",
       "      <td>0.0</td>\n",
       "      <td>0.019669</td>\n",
       "      <td>0.886737</td>\n",
       "    </tr>\n",
       "    <tr>\n",
       "      <th>88645</th>\n",
       "      <td>PHIP</td>\n",
       "      <td>PAAD</td>\n",
       "      <td>0</td>\n",
       "      <td>0</td>\n",
       "      <td>0.0</td>\n",
       "      <td>1.000000</td>\n",
       "      <td>1.000000</td>\n",
       "    </tr>\n",
       "    <tr>\n",
       "      <th>88678</th>\n",
       "      <td>PHKA2</td>\n",
       "      <td>PAAD</td>\n",
       "      <td>0</td>\n",
       "      <td>0</td>\n",
       "      <td>0.0</td>\n",
       "      <td>1.000000</td>\n",
       "      <td>1.000000</td>\n",
       "    </tr>\n",
       "    <tr>\n",
       "      <th>88702</th>\n",
       "      <td>PHKB</td>\n",
       "      <td>PAAD</td>\n",
       "      <td>0</td>\n",
       "      <td>0</td>\n",
       "      <td>0.0</td>\n",
       "      <td>1.000000</td>\n",
       "      <td>1.000000</td>\n",
       "    </tr>\n",
       "    <tr>\n",
       "      <th>88803</th>\n",
       "      <td>PHOSPHO1</td>\n",
       "      <td>PAAD</td>\n",
       "      <td>0</td>\n",
       "      <td>0</td>\n",
       "      <td>0.0</td>\n",
       "      <td>1.000000</td>\n",
       "      <td>1.000000</td>\n",
       "    </tr>\n",
       "    <tr>\n",
       "      <th>89257</th>\n",
       "      <td>PIK3CA</td>\n",
       "      <td>PAAD</td>\n",
       "      <td>0</td>\n",
       "      <td>0</td>\n",
       "      <td>0.0</td>\n",
       "      <td>1.000000</td>\n",
       "      <td>1.000000</td>\n",
       "    </tr>\n",
       "    <tr>\n",
       "      <th>89026</th>\n",
       "      <td>PID1</td>\n",
       "      <td>PAAD</td>\n",
       "      <td>0</td>\n",
       "      <td>0</td>\n",
       "      <td>0.0</td>\n",
       "      <td>1.000000</td>\n",
       "      <td>1.000000</td>\n",
       "    </tr>\n",
       "    <tr>\n",
       "      <th>88595</th>\n",
       "      <td>PHF3</td>\n",
       "      <td>PAAD</td>\n",
       "      <td>0</td>\n",
       "      <td>0</td>\n",
       "      <td>0.0</td>\n",
       "      <td>1.000000</td>\n",
       "      <td>1.000000</td>\n",
       "    </tr>\n",
       "    <tr>\n",
       "      <th>89279</th>\n",
       "      <td>PIK3CB</td>\n",
       "      <td>PAAD</td>\n",
       "      <td>0</td>\n",
       "      <td>0</td>\n",
       "      <td>0.0</td>\n",
       "      <td>1.000000</td>\n",
       "      <td>1.000000</td>\n",
       "    </tr>\n",
       "  </tbody>\n",
       "</table>\n",
       "</div>"
      ],
      "text/plain": [
       "           GENE Cancer_Type  TOTAL_HSP  TOTAL_RES_HSP  MEDIAN_RES_HSP  \\\n",
       "160        TP53        PAAD          1             32            32.0   \n",
       "161        KRAS        PAAD          1              3             3.0   \n",
       "159        GNAS        PAAD          1              1             1.0   \n",
       "157       SMAD4        PAAD          1              4             4.0   \n",
       "158       KCNB2        PAAD          1              1             1.0   \n",
       "33011     DOCK1        PAAD          0              0             0.0   \n",
       "89320    PIK3CG        PAAD          0              0             0.0   \n",
       "88645      PHIP        PAAD          0              0             0.0   \n",
       "88678     PHKA2        PAAD          0              0             0.0   \n",
       "88702      PHKB        PAAD          0              0             0.0   \n",
       "88803  PHOSPHO1        PAAD          0              0             0.0   \n",
       "89257    PIK3CA        PAAD          0              0             0.0   \n",
       "89026      PID1        PAAD          0              0             0.0   \n",
       "88595      PHF3        PAAD          0              0             0.0   \n",
       "89279    PIK3CB        PAAD          0              0             0.0   \n",
       "\n",
       "       Min p-value   q-value  \n",
       "160       0.000003  0.001271  \n",
       "161       0.000004  0.001271  \n",
       "159       0.000018  0.002278  \n",
       "157       0.000053  0.004549  \n",
       "158       0.000655  0.039401  \n",
       "33011     0.016762  0.788544  \n",
       "89320     0.019669  0.886737  \n",
       "88645     1.000000  1.000000  \n",
       "88678     1.000000  1.000000  \n",
       "88702     1.000000  1.000000  \n",
       "88803     1.000000  1.000000  \n",
       "89257     1.000000  1.000000  \n",
       "89026     1.000000  1.000000  \n",
       "88595     1.000000  1.000000  \n",
       "89279     1.000000  1.000000  "
      ]
     },
     "execution_count": 10,
     "metadata": {},
     "output_type": "execute_result"
    }
   ],
   "source": [
    "df_hotspots_all[df_hotspots_all[\"Cancer_Type\"]==\"PAAD\"].sort_values(\"q-value\").head(15)"
   ]
  },
  {
   "cell_type": "code",
   "execution_count": null,
   "metadata": {
    "collapsed": true
   },
   "outputs": [],
   "source": []
  }
 ],
 "metadata": {
  "anaconda-cloud": {},
  "kernelspec": {
   "display_name": "Python [conda root]",
   "language": "python",
   "name": "conda-root-py"
  },
  "language_info": {
   "codemirror_mode": {
    "name": "ipython",
    "version": 3
   },
   "file_extension": ".py",
   "mimetype": "text/x-python",
   "name": "python",
   "nbconvert_exporter": "python",
   "pygments_lexer": "ipython3",
   "version": "3.6.1"
  }
 },
 "nbformat": 4,
 "nbformat_minor": 1
}
